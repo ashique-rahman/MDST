{
 "cells": [
  {
   "cell_type": "code",
   "execution_count": 4,
   "metadata": {},
   "outputs": [],
   "source": [
    "from __future__ import print_function\n",
    "import pandas as pd\n",
    "import numpy as np\n",
    "import matplotlib\n",
    "matplotlib.use('nbagg')\n",
    "import matplotlib.pyplot as plt"
   ]
  },
  {
   "cell_type": "code",
   "execution_count": 5,
   "metadata": {},
   "outputs": [],
   "source": [
    "filepath_HospitalData = \"./HospitalAdmissionsData.csv\";\n",
    "HospitalData = pd.read_csv(filepath_HospitalData)\n"
   ]
  },
  {
   "cell_type": "code",
   "execution_count": 6,
   "metadata": {},
   "outputs": [
    {
     "data": {
      "text/plain": [
       "Index(['ID', 'AdmissionLengthDays', 'Death_1', 'Admission_Type',\n",
       "       'Insurance_Type', 'EnglishLanguage_1', 'Religion_Type', 'Married_1',\n",
       "       'Race', 'Dx'],\n",
       "      dtype='object')"
      ]
     },
     "execution_count": 6,
     "metadata": {},
     "output_type": "execute_result"
    }
   ],
   "source": [
    "#What are the column headers or features in this dataset?\n",
    "HospitalData.columns"
   ]
  },
  {
   "cell_type": "code",
   "execution_count": 7,
   "metadata": {},
   "outputs": [],
   "source": [
    "#The column headers are ID, AdmissionLengthDays, Death_1, Admission_Type, Insurace_Type, EnglishLanguage_1, \n",
    "#Religion_type, Marriage_1, Race, Dx"
   ]
  },
  {
   "cell_type": "code",
   "execution_count": 8,
   "metadata": {},
   "outputs": [
    {
     "name": "stdout",
     "output_type": "stream",
     "text": [
      "<class 'pandas.core.frame.DataFrame'>\n",
      "RangeIndex: 58863 entries, 0 to 58862\n",
      "Data columns (total 10 columns):\n",
      "ID                     58863 non-null int64\n",
      "AdmissionLengthDays    58863 non-null float64\n",
      "Death_1                58863 non-null int64\n",
      "Admission_Type         58863 non-null object\n",
      "Insurance_Type         58863 non-null object\n",
      "EnglishLanguage_1      58863 non-null int64\n",
      "Religion_Type          58408 non-null object\n",
      "Married_1              58863 non-null int64\n",
      "Race                   58863 non-null object\n",
      "Dx                     58863 non-null object\n",
      "dtypes: float64(1), int64(4), object(5)\n",
      "memory usage: 4.5+ MB\n"
     ]
    }
   ],
   "source": [
    "#How many features are floats, how many are integers?\n",
    "HospitalData.info()"
   ]
  },
  {
   "cell_type": "code",
   "execution_count": 9,
   "metadata": {},
   "outputs": [],
   "source": [
    "# 1 feature is a float, 4 features are integers"
   ]
  },
  {
   "cell_type": "code",
   "execution_count": 10,
   "metadata": {},
   "outputs": [],
   "source": [
    "#Which features are objects? (non-numeric variables)\n",
    "\n",
    "#Admission_Type, Insurance_Type, Religion_Type, Race, Dx"
   ]
  },
  {
   "cell_type": "code",
   "execution_count": 11,
   "metadata": {},
   "outputs": [
    {
     "data": {
      "text/plain": [
       "array(['private', 'medicare', 'government', 'medicaid', 'self pay'],\n",
       "      dtype=object)"
      ]
     },
     "execution_count": 11,
     "metadata": {},
     "output_type": "execute_result"
    }
   ],
   "source": [
    "#What are the possible values for insurance types?\n",
    "HospitalData.Insurance_Type.unique()"
   ]
  },
  {
   "cell_type": "code",
   "execution_count": 12,
   "metadata": {},
   "outputs": [],
   "source": [
    "#The possible insurance types are private, medicare, government, medicaid, and self pay"
   ]
  },
  {
   "cell_type": "code",
   "execution_count": 13,
   "metadata": {},
   "outputs": [],
   "source": [
    "# Show the summary statistics for admission length"
   ]
  },
  {
   "cell_type": "code",
   "execution_count": 14,
   "metadata": {},
   "outputs": [
    {
     "data": {
      "text/plain": [
       "count    58863.000000\n",
       "mean        10.138978\n",
       "std         12.465611\n",
       "min         -0.945139\n",
       "25%          3.743056\n",
       "50%          6.465972\n",
       "75%         11.798264\n",
       "max        294.660417\n",
       "Name: AdmissionLengthDays, dtype: float64"
      ]
     },
     "execution_count": 14,
     "metadata": {},
     "output_type": "execute_result"
    }
   ],
   "source": [
    "HospitalData.AdmissionLengthDays.describe()"
   ]
  },
  {
   "cell_type": "code",
   "execution_count": 15,
   "metadata": {},
   "outputs": [],
   "source": [
    "#What is the most common admission type, insurance type, religion type, race, and diagnosis (Dx)?"
   ]
  },
  {
   "cell_type": "code",
   "execution_count": 16,
   "metadata": {},
   "outputs": [
    {
     "data": {
      "text/html": [
       "<div>\n",
       "<style scoped>\n",
       "    .dataframe tbody tr th:only-of-type {\n",
       "        vertical-align: middle;\n",
       "    }\n",
       "\n",
       "    .dataframe tbody tr th {\n",
       "        vertical-align: top;\n",
       "    }\n",
       "\n",
       "    .dataframe thead th {\n",
       "        text-align: right;\n",
       "    }\n",
       "</style>\n",
       "<table border=\"1\" class=\"dataframe\">\n",
       "  <thead>\n",
       "    <tr style=\"text-align: right;\">\n",
       "      <th></th>\n",
       "      <th>Admission_Type</th>\n",
       "      <th>Insurance_Type</th>\n",
       "      <th>Religion_Type</th>\n",
       "      <th>Race</th>\n",
       "      <th>Dx</th>\n",
       "    </tr>\n",
       "  </thead>\n",
       "  <tbody>\n",
       "    <tr>\n",
       "      <td>count</td>\n",
       "      <td>58863</td>\n",
       "      <td>58863</td>\n",
       "      <td>58408</td>\n",
       "      <td>58863</td>\n",
       "      <td>58863</td>\n",
       "    </tr>\n",
       "    <tr>\n",
       "      <td>unique</td>\n",
       "      <td>4</td>\n",
       "      <td>5</td>\n",
       "      <td>20</td>\n",
       "      <td>41</td>\n",
       "      <td>15647</td>\n",
       "    </tr>\n",
       "    <tr>\n",
       "      <td>top</td>\n",
       "      <td>emergency</td>\n",
       "      <td>medicare</td>\n",
       "      <td>catholic</td>\n",
       "      <td>white</td>\n",
       "      <td>newborn</td>\n",
       "    </tr>\n",
       "    <tr>\n",
       "      <td>freq</td>\n",
       "      <td>41987</td>\n",
       "      <td>28157</td>\n",
       "      <td>20561</td>\n",
       "      <td>40927</td>\n",
       "      <td>7823</td>\n",
       "    </tr>\n",
       "  </tbody>\n",
       "</table>\n",
       "</div>"
      ],
      "text/plain": [
       "       Admission_Type Insurance_Type Religion_Type   Race       Dx\n",
       "count           58863          58863         58408  58863    58863\n",
       "unique              4              5            20     41    15647\n",
       "top         emergency       medicare      catholic  white  newborn\n",
       "freq            41987          28157         20561  40927     7823"
      ]
     },
     "execution_count": 16,
     "metadata": {},
     "output_type": "execute_result"
    }
   ],
   "source": [
    "HospitalData.describe(include=\"object\")"
   ]
  },
  {
   "cell_type": "code",
   "execution_count": 17,
   "metadata": {},
   "outputs": [],
   "source": [
    "# Most common of the object types are emergency admissions, medicare insurance holders, catholics, whites, and newborns"
   ]
  },
  {
   "cell_type": "code",
   "execution_count": 18,
   "metadata": {},
   "outputs": [],
   "source": [
    "#Show a histogram for admission days (with appropriate labels, titles, etc), and also show a \n",
    "#histogram for admission days on a log scale. Describe what you see."
   ]
  },
  {
   "cell_type": "code",
   "execution_count": 19,
   "metadata": {},
   "outputs": [
    {
     "data": {
      "text/plain": [
       "Text(0, 0.5, 'Number of People')"
      ]
     },
     "execution_count": 19,
     "metadata": {},
     "output_type": "execute_result"
    },
    {
     "data": {
      "image/png": "[encoded data removed]",
      "text/plain": [
       "<Figure size 432x288 with 1 Axes>"
      ]
     },
     "metadata": {
      "needs_background": "light"
     },
     "output_type": "display_data"
    }
   ],
   "source": [
    "%matplotlib inline\n",
    "HospitalData.hist(column='AdmissionLengthDays')\n",
    "plt.title(\"Histogram of Admission Length Measured in Days\")\n",
    "plt.xlabel(\"Total Days of Admission\")\n",
    "plt.ylabel(\"Number of People\")"
   ]
  },
  {
   "cell_type": "code",
   "execution_count": 20,
   "metadata": {},
   "outputs": [
    {
     "data": {
      "text/plain": [
       "Text(0, 0.5, 'Number of People')"
      ]
     },
     "execution_count": 20,
     "metadata": {},
     "output_type": "execute_result"
    },
    {
     "data": {
      "image/png": "[encoded data removed]",
      "text/plain": [
       "<Figure size 432x288 with 1 Axes>"
      ]
     },
     "metadata": {
      "needs_background": "light"
     },
     "output_type": "display_data"
    }
   ],
   "source": [
    "%matplotlib inline\n",
    "HospitalData.hist(column='AdmissionLengthDays', log = 1)\n",
    "plt.title(\"Histogram of Admission Length Measured in Days\")\n",
    "plt.xlabel(\"Total Days of Admission\")\n",
    "plt.ylabel(\"Number of People\")"
   ]
  },
  {
   "cell_type": "code",
   "execution_count": 21,
   "metadata": {},
   "outputs": [],
   "source": [
    "# The most people ar admitted into hospital for about 30 days. There are very few people who are admitted for days beyond\n",
    "# 240. "
   ]
  },
  {
   "cell_type": "code",
   "execution_count": 29,
   "metadata": {},
   "outputs": [],
   "source": [
    "#Compare the average length of admission between those who died versus those who did not die. \n",
    "#Show a visualization, with appropriate labels, titles, etc."
   ]
  },
  {
   "cell_type": "code",
   "execution_count": 30,
   "metadata": {},
   "outputs": [
    {
     "data": {
      "text/plain": [
       "Text(0, 0.5, 'Death Status (1 = Death)')"
      ]
     },
     "execution_count": 30,
     "metadata": {},
     "output_type": "execute_result"
    },
    {
     "data": {
      "image/png": "[encoded data removed]",
      "text/plain": [
       "<Figure size 432x288 with 1 Axes>"
      ]
     },
     "metadata": {
      "needs_background": "light"
     },
     "output_type": "display_data"
    }
   ],
   "source": [
    "SurvivalBar = HospitalData.groupby(\"Death_1\").mean()\n",
    "SurvivalBar.plot.bar(y=[\"AdmissionLengthDays\"])\n",
    "plt.title(\"Average Length of Admission for those who Died and lived\")\n",
    "plt.xlabel(\"Average Length of Stay\")\n",
    "plt.ylabel(\"Death Status (1 = Death)\")"
   ]
  },
  {
   "cell_type": "code",
   "execution_count": 31,
   "metadata": {},
   "outputs": [],
   "source": [
    "#Describe the association between death and insurance type and show a visualization or test."
   ]
  },
  {
   "cell_type": "code",
   "execution_count": 32,
   "metadata": {},
   "outputs": [
    {
     "name": "stdout",
     "output_type": "stream",
     "text": [
      "Insurance_Type  government  medicaid  medicare  private  self pay\n",
      "Death_1                                                          \n",
      "0                     1691      5400     24253    21152       515\n",
      "1                       90       381      3904     1382        95\n"
     ]
    },
    {
     "data": {
      "text/plain": [
       "Text(0.5, 0, 'Death Status (Death = 1)')"
      ]
     },
     "execution_count": 32,
     "metadata": {},
     "output_type": "execute_result"
    },
    {
     "data": {
      "image/png": "[encoded data removed]",
      "text/plain": [
       "<Figure size 432x288 with 1 Axes>"
      ]
     },
     "metadata": {
      "needs_background": "light"
     },
     "output_type": "display_data"
    }
   ],
   "source": [
    "HospitalDeathInsurance = pd.crosstab(HospitalData.Death_1, HospitalData.Insurance_Type)\n",
    "print(HospitalDeathInsurance)\n",
    "HospitalDeathInsurance.plot.bar()\n",
    "plt.ylabel(\"Count of Insurance Type\")\n",
    "plt.title(\"Relationship Between Death and Insurance Type\")\n",
    "plt.xlabel(\"Death Status (Death = 1)\")"
   ]
  },
  {
   "cell_type": "code",
   "execution_count": 33,
   "metadata": {},
   "outputs": [],
   "source": [
    "#The medicare holders were the ones who died in the hospital the most, followed by private insurance holders. Interestingly,\n",
    "#the medicare holders also had the greatest number to survive their hospital visit, followed by private insurance holders. "
   ]
  },
  {
   "cell_type": "code",
   "execution_count": 36,
   "metadata": {},
   "outputs": [
    {
     "data": {
      "image/png": "[encoded data removed]",
      "text/plain": [
       "<Figure size 360x360 with 3 Axes>"
      ]
     },
     "metadata": {},
     "output_type": "display_data"
    }
   ],
   "source": [
    "x = np.linspace(0, 10, 100)\n",
    "y1, y2, y3 = np.cos(x), np.cos(x + 1), np.cos(x + 2)\n",
    "names = ['Signal 1', 'Signal 2', 'Signal 3']\n",
    "\n",
    "# Can you figure out what to do next to plot x vs y1, y2, and y3 on one figure?\n",
    "fig, axes = plt.subplots(nrows=3, ncols=1, figsize = (5, 5));\n",
    "axes[0].set(title=names[0])\n",
    "axes[0].plot(x,y1)\n",
    "axes[1].set(title=names[1])\n",
    "axes[1].plot(x,y2)\n",
    "axes[2].set(title=names[2])\n",
    "axes[2].plot(x,y3)\n",
    "\n",
    "for ax in axes.flat:\n",
    "    ax.set(xticks=[], yticks=[])\n",
    "plt.tight_layout()"
   ]
  }
 ],
 "metadata": {
  "kernelspec": {
   "display_name": "Python 3",
   "language": "python",
   "name": "python3"
  },
  "language_info": {
   "codemirror_mode": {
    "name": "ipython",
    "version": 3
   },
   "file_extension": ".py",
   "mimetype": "text/x-python",
   "name": "python",
   "nbconvert_exporter": "python",
   "pygments_lexer": "ipython3",
   "version": "3.7.4"
  }
 },
 "nbformat": 4,
 "nbformat_minor": 2
}
