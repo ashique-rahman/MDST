{
 "cells": [
  {
   "cell_type": "code",
   "execution_count": 5,
   "metadata": {},
   "outputs": [],
   "source": [
    "def part1(num):\n",
    "    \"\"\"\n",
    "    Ask the user for a number. Depending on whether the number is even or odd,\n",
    "    print out an appropriate (i.e. \"even\" or \"odd\") message to the user.\n",
    "    \"\"\"\n",
    "    inn = int(input(\"Enter a number \"))\n",
    "    if(inn % 2 == 0):\n",
    "        print(\"Even\")\n",
    "    else:\n",
    "        print(\"Odd\")\n"
   ]
  },
  {
   "cell_type": "code",
   "execution_count": 7,
   "metadata": {},
   "outputs": [],
   "source": [
    "from math import sqrt\n",
    "from random import randint"
   ]
  },
  {
   "cell_type": "code",
   "execution_count": 48,
   "metadata": {},
   "outputs": [],
   "source": [
    "\"\"\"\n",
    "Generate a random number between 1 and 9 (including 1 and 9). Ask the user\n",
    "    to guess the number, then tell them whether they guessed too low, too high,\n",
    "    or exactly right.\n",
    "    (Hint: remember to use the user input lessons from the very first\n",
    "    exercise).\n",
    "    Keep the game going until the user types \"exit\".\n",
    "    [ try checking the random module in python on google. Concepts: Infinite\n",
    "    loops, if, else, loops and user/input].\n",
    "   \"\"\"\n",
    "exit = \"exit\"\n",
    "while (guess != exit):\n",
    "    random = randint(1,9)\n",
    "    guess = input(\"Guess a number 1-9 \")\n",
    "    guessval = int(guess)\n",
    "    if guessval == random:\n",
    "        print(\"Exactly right!\")\n",
    "    elif guessval > random:\n",
    "        print(\"Too high\")\n",
    "    elif guessval < random:\n",
    "        print(\"Too low\")        "
   ]
  },
  {
   "cell_type": "code",
   "execution_count": 104,
   "metadata": {},
   "outputs": [
    {
     "name": "stdout",
     "output_type": "stream",
     "text": [
      "enter a word: racecar\n",
      "this is a palindrome\n"
     ]
    }
   ],
   "source": [
    "\"\"\"\n",
    "Ask the user for a string and print out whether this string is a palindrome\n",
    "    or not. (A palindrome is a string that reads the same forwards and\n",
    "    backwards.)\n",
    "    \"\"\"\n",
    "palindrome = \"this is a palindrome\"\n",
    "word = input(\"enter a word: \")\n",
    "length = int(len(word))\n",
    "for x in range(int(length / 2)):\n",
    "    if word[x] != word[length - 1 - x]:\n",
    "        palindrome = \"not a palindrome\"\n",
    "        \n",
    "print(palindrome)\n",
    "    \n",
    "        \n",
    "        \n",
    "        \n",
    "\n",
    "    "
   ]
  },
  {
   "cell_type": "code",
   "execution_count": 102,
   "metadata": {},
   "outputs": [],
   "source": [
    "import base64"
   ]
  },
  {
   "cell_type": "code",
   "execution_count": 109,
   "metadata": {},
   "outputs": [],
   "source": [
    "username = \"ashique-rahman\"\n",
    "password = \"catsanddogs\"\n",
    "encodedUsername = base64.b64encode(username.encode(\"utf-8\"))\n",
    "encodedStrUsername = str(encodedUsername, \"utf-8\")\n",
    "encodedPassword = base64.b64encode(password.encode(\"utf-8\"))\n",
    "encodedStrPassword = str(encodedPassword, \"utf-8\")\n",
    "f = open('secret.txt', 'w')\n",
    "f.write(encodedStrUsername)\n",
    "f.write(\"\\n\")\n",
    "f.write(encodedStrPassword)\n",
    "f.close()"
   ]
  },
  {
   "cell_type": "code",
   "execution_count": null,
   "metadata": {},
   "outputs": [],
   "source": [
    "g = open('secret.txt', 'r')\n",
    "g.read()\n",
    "file_lines = g.readlines()\n",
    "username = file_lines[0].strip()\n",
    "password = file_lines[1].strip()\n",
    "realUsername = base64.b64decode(username)\n",
    "realPassword = base64.b64decode(password)\n",
    "print(realUsername)\n",
    "print (\"\\n\")\n",
    "print(realPassword)"
   ]
  }
 ],
 "metadata": {
  "kernelspec": {
   "display_name": "Python 3",
   "language": "python",
   "name": "python3"
  },
  "language_info": {
   "codemirror_mode": {
    "name": "ipython",
    "version": 3
   },
   "file_extension": ".py",
   "mimetype": "text/x-python",
   "name": "python",
   "nbconvert_exporter": "python",
   "pygments_lexer": "ipython3",
   "version": "3.7.4"
  }
 },
 "nbformat": 4,
 "nbformat_minor": 2
}
